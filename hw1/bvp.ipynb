{
 "cells": [
  {
   "cell_type": "markdown",
   "metadata": {},
   "source": [
    "## Re-using the A=PLU factorization\n",
    "\n",
    "In some situations we can re-use the A=PLU factorization in multiple problems. An example is solving a boundary value problem for several different boundary conditions. We describe a example of this: the discrete Dirichlet problem.\n",
    "\n",
    "## The discrete Laplacian for a graph.\n",
    "\n",
    "Given a graph with $n$ labelled vertices we define the Adjacency matrix $A$  to be the $n\\times n$ matrix with matrix entries\n",
    "\n",
    "$$\n",
    "A_{i,j} = 1 \\quad\\hbox{ if }\\quad i \\sim j,\\quad  \\hbox{otherwise } 0\n",
    "$$\n",
    "Here $n\\sim n$ means $i$ and $j$ are adjacent, i.e., nearest neighbours. \n",
    "\n",
    "The discrete Laplacian is the $n\\times n$ matrix with matrix entries\n",
    "$$\n",
    "L_{i,j} =  A_{i,j} - \\delta_{i,j} c(i)\n",
    "$$\n",
    "where $c(i)$ is the number of edges meeting $i$.\n",
    "\n",
    "We identify a function $f$ on the vertices with the vector $\\begin{bmatrix}f_1\\\\ f_2\\\\ \\vdots\\\\ f_n\\\\\\end{bmatrix}$ in $\\mathbb R^n$ that lists the values at each vertex. \n",
    "\n",
    "Then a more natural (eqivalent) definition of $L$ is in terms its action as a linear transformation:\n",
    "$$\n",
    "(Lf)_i = \\sum_{j\\sim i}(f_j-f_i)\n",
    "$$\n",
    "If we think of $(f_j-f_i)$ as the change in $f$ when you move along the edge joining $i$ to $j$, then $(Lf)_i$ is the sum over all edges joining $i$ of these changes. You should convince yourself that the two definitions agree. The first one is easier to compute.\n",
    "\n",
    "Here is an example: For the graph\n",
    "\n",
    "![title](img/dd.png)\n",
    "\n",
    "$ A = \\begin{bmatrix} 0 & 1 & 0 & 0 & 1\\\\   1& 0 &1&0  &1\\\\0   &1 &0  & 1&1\\\\   0&0&1&0&1\\\\  1 &1&1&1&0\\\\\\end{bmatrix}$\n",
    "\n",
    "\n",
    "$L= \\begin{bmatrix} -2 & 1 & 0 & 0 & 1\\\\   1& -3 &1&0  &1\\\\0   &1 &-3  & 1&1\\\\   0&0&1&-2&1\\\\  1 &1&1&1&-4\\\\\\end{bmatrix}$\n",
    "\n",
    "## Boundary conditions and the Dirichlet problem\n",
    "\n",
    "\n",
    "Let's designate some sunset of vertices to be the boundary. Suppose that there are $m$ of them. By relabelling if needed, we may assume that the labels $0, 1, 2, \\ldots m-1$ correspond to the boundary and the labels $m, \\ldots, n-1$ correspond to the interior.\n",
    "\n",
    "![title](img/db.png)\n",
    "\n",
    "In the example graph the blue vertices  $0, 1$  are the boundary. So $m=2$.\n",
    "\n",
    "Let\n",
    "$$\n",
    "P= [I_{m} | 0]\n",
    "$$\n",
    "where $I_{m}$ is the $m\\times m$ identity matrix and $0$ denotes an $m\\times (n-m)$ block of zeros. \n",
    "Similarly let\n",
    "$$\n",
    "Q=[0|I_{n-m}]\n",
    "$$\n",
    "If $f\\in \\mathbb R^n$ denotes a function on the vertices, then $Pf$ is the restriction of $f$ to the boundary and $Qf$ is the restriction of $f$ to interior points. Notice that\n",
    "$$\n",
    "P^T P + Q^T Q = I\n",
    "$$\n",
    "\n",
    "## The Dirichlet problem \n",
    "\n",
    "Given a function $b$ defined on the boundary, find a function $f$ defined on all vertices such that\n",
    "\n",
    "1. $f=b$ for all boundary points\n",
    "\n",
    "2. $Lf = 0$ for all interior points. \n",
    "\n",
    "In our notation this translates to \n",
    "\n",
    "Given $b\\in \\mathbb R^m$, find $f\\in \\mathbb R^n$ such that \n",
    "\n",
    "1. $Pf = b$\n",
    "2. $QLf = 0$$\n",
    "\n",
    "We solve this by inserting $P^T P + Q^T Q = $i$ into the second equation. \n",
    "\n",
    "This gives \n",
    "\n",
    "$$QLF = QL(P^T P  +  Q^TQ)f = QLP^T Pf + QLQ^T Qf =0.$$ \n",
    "\n",
    "If the first equation holds as well then $QLQ^T QF = -QLP^Tb$ so \n",
    "$$\n",
    "QLQ^T Qf = -QLP^Tb\n",
    "$$\n",
    "This equation is of the form $ Ax = c$ where $A=QLQ^T$, $x=Qf$ and $c=-QLP^Tb$. If we can solve it then we know $x=Qf$ and $b=Pf$ so we can construct \n",
    "\n",
    "$$f=( P^T P + Q^T Q )f  = P^Tb + Q^T x.$$\n",
    "\n",
    "\n",
    "## Main point: Re-using the A=PLU factorization when we change boundary condition\n",
    "\n",
    "Now suppose we want to solve the Dirichlet problem for a bunch of different boundary values $b_1, b_2, ...$ on the same graph with boundary. Then we need to solve  $Ax= c_1, Ax=c_2, \\ldots $ \n",
    "\n",
    "We can solve each of these equations in two steps: \n",
    "\n",
    "(1) Find the A=PLU decomposition of $A$\n",
    "\n",
    "(2) Solve the factored equation $PLU x = c_i$ where $c_i=-QLP^Tb_i$.\n",
    "\n",
    "Step (1) is where most of the work is. But this step is the *same* for each of our equations. So we need only do this step once and then use the result to do step (2) for each equation.\n",
    "\n",
    "Lets do these steps in python for the example graph and boundary value $b=\\begin{bmatrix}1\\\\0\\\\ \\end{bmatrix}$"
   ]
  },
  {
   "cell_type": "code",
   "execution_count": 24,
   "metadata": {},
   "outputs": [
    {
     "name": "stdout",
     "output_type": "stream",
     "text": [
      "L = \n",
      " [[-2  1  0  0  1]\n",
      " [ 1 -3  1  0  1]\n",
      " [ 0  1 -3  1  1]\n",
      " [ 0  0  1 -2  1]\n",
      " [ 1  1  1  1 -4]]\n",
      "P = \n",
      " [[1 0 0 0 0]\n",
      " [0 1 0 0 0]]\n",
      "Q = \n",
      " [[0 0 1 0 0]\n",
      " [0 0 0 1 0]\n",
      " [0 0 0 0 1]]\n",
      "A = \n",
      " [[-3  1  1]\n",
      " [ 1 -2  1]\n",
      " [ 1  1 -4]]\n",
      "b = \n",
      " [[1]\n",
      " [0]]\n",
      "c = \n",
      " [[ 0]\n",
      " [ 0]\n",
      " [-1]]\n"
     ]
    }
   ],
   "source": [
    "import numpy as np\n",
    "import scipy.linalg as la\n",
    "import matplotlib.pyplot as plt\n",
    "\n",
    "L = np.array([[-2, 1, 0, 0, 1],[1, -3 ,1 ,0 ,1],[0,1,-3,1,1],[0,0,1 ,-2,1],[1,1,1,1,-4]])\n",
    "P = np.array([[1,0,0,0,0],[0,1,0,0,0]])\n",
    "Q = np.array([[0,0,1,0,0],[0,0,0,1,0],[0,0,0,0,1]])\n",
    "A = Q@L@np.transpose(Q)\n",
    "b = np.array([[1],[0]])\n",
    "c = -Q@L@np.transpose(P)@b\n",
    "print(\"L = \\n\", L)\n",
    "print(\"P = \\n\", P)\n",
    "print(\"Q = \\n\", Q)\n",
    "print(\"A = \\n\", A)\n",
    "print(\"b = \\n\", b)\n",
    "print(\"c = \\n\", c)"
   ]
  },
  {
   "cell_type": "markdown",
   "metadata": {},
   "source": [
    "We could do this:"
   ]
  },
  {
   "cell_type": "code",
   "execution_count": 30,
   "metadata": {},
   "outputs": [
    {
     "name": "stdout",
     "output_type": "stream",
     "text": [
      "f= [[1.        ]\n",
      " [0.        ]\n",
      " [0.23076923]\n",
      " [0.30769231]\n",
      " [0.38461538]]\n"
     ]
    }
   ],
   "source": [
    "x = la.solve(A,c)\n",
    "f = np.transpose(P)@b+np.transpose(Q)@x\n",
    "print(\"f=\",f)"
   ]
  },
  {
   "cell_type": "markdown",
   "metadata": {},
   "source": [
    "If we are only doing this problem for one value of $b$ this is fine. But if we want to solve the equation for different $b$'s We should get the solution via the LU factorization"
   ]
  },
  {
   "cell_type": "code",
   "execution_count": 29,
   "metadata": {},
   "outputs": [
    {
     "name": "stdout",
     "output_type": "stream",
     "text": [
      "f= [[1.        ]\n",
      " [0.        ]\n",
      " [0.23076923]\n",
      " [0.30769231]\n",
      " [0.38461538]]\n"
     ]
    }
   ],
   "source": [
    "lu, piv = la.lu_factor(A)\n",
    "x = la.lu_solve((lu,piv),c)\n",
    "f = np.transpose(P)@b+np.transpose(Q)@x\n",
    "print(\"f=\",f)"
   ]
  },
  {
   "cell_type": "markdown",
   "metadata": {},
   "source": [
    "The advantage is that if we now want to solve the Dirichlet problem with a new boundary condition, say,\n",
    "$b_2 = b=\\begin{bmatrix}0\\\\1\\\\ \\end{bmatrix}$. Then we take\n",
    "$c2 = -Q L P^Tb_2$ and reuse lu and piv"
   ]
  },
  {
   "cell_type": "code",
   "execution_count": 35,
   "metadata": {},
   "outputs": [
    {
     "name": "stdout",
     "output_type": "stream",
     "text": [
      "f2= [[0.        ]\n",
      " [1.        ]\n",
      " [0.76923077]\n",
      " [0.69230769]\n",
      " [0.61538462]]\n"
     ]
    }
   ],
   "source": [
    "b2 = np.array([[0],[1]])\n",
    "c2 = -Q@L@np.transpose(P)@b2\n",
    "x2 = la.lu_solve((lu,piv),c2)\n",
    "f2=np.transpose(P)@b2+np.transpose(Q)@x2\n",
    "print(\"f2=\",f2)"
   ]
  },
  {
   "cell_type": "markdown",
   "metadata": {},
   "source": [
    "**Homework problem 1: The discrete Poisson kernel is the $5\\times 2$ matrix $PK$ such that for any boundary condtion $b_2$, $b_3$, the product $PK  \\begin{bmatrix}b_2\\\\b_3\\\\\\end{bmatrix}$ is the solution of the Dirichlet problem with this boundary condition. \n",
    "Compute $PK$ for the example above**\n",
    "Hint: recall that if a linear transformation is given by a matrix we can find the maxtrix by applying the linear transformation to standard basis vectors. For example, for a nx2 matrix R we find the columns of R by computing R [1,0]^T (first row) and R [0,1]^T (second row)\n",
    "\n",
    "To find $PK$ simply stack the results for $f$ and $f_2$ obtained above, which are the first/second rows of the matrix.\n",
    "Here's all the code in a more organized fashion."
   ]
  },
  {
   "cell_type": "code",
   "execution_count": 3,
   "metadata": {
    "pycharm": {
     "name": "#%%\n"
    }
   },
   "outputs": [
    {
     "name": "stdout",
     "output_type": "stream",
     "text": [
      "PK = [[1.         0.         0.23076923 0.30769231 0.38461538]\n",
      " [0.         1.         0.76923077 0.69230769 0.61538462]]\n"
     ]
    }
   ],
   "source": [
    "import numpy as np\n",
    "import scipy.linalg as la\n",
    "\n",
    "L = np.array([\n",
    "    [-2, 1, 0, 0, 1],\n",
    "    [1, -3, 1, 0, 1],\n",
    "    [0, 1, -3, 1, 1],\n",
    "    [0, 0, 1, -2, 1],\n",
    "    [1, 1, 1, 1, -4]\n",
    "])\n",
    "P = np.array([\n",
    "    [1, 0, 0, 0, 0],\n",
    "    [0, 1, 0, 0, 0]\n",
    "])\n",
    "Q = np.array([\n",
    "    [0, 0, 1, 0, 0],\n",
    "    [0, 0, 0, 1, 0],\n",
    "    [0, 0, 0, 0, 1]\n",
    "])\n",
    "\n",
    "A = Q @ L @ Q.T\n",
    "lu, piv = la.lu_factor(A)\n",
    "\n",
    "bs, fs = [np.array([1, 0]).T, np.array([0, 1]).T], []\n",
    "for b in bs:\n",
    "    c = -Q @ L @ P.T @ b\n",
    "    x = la.lu_solve((lu, piv), c)\n",
    "    fs.append(P.T @ b + Q.T @ x)\n",
    "\n",
    "PK = np.vstack(fs)\n",
    "print(f'PK = {PK}')"
   ]
  },
  {
   "cell_type": "markdown",
   "metadata": {},
   "source": [
    "**Homework problem 2:\n",
    "For the graph with boundary shown here**\n",
    "\n",
    "![title](img/d3.png)\n",
    "\n",
    "**Compute the solution of the Dirichlet problem  with boundary values $b_0=1$, $b_1=b_2=\\cdots = b_5=0$ using the LU decomposition. Then reuse the decomposition to solve the Dirichlet problem  with boundary values $b_0=b_1=b_2=\\cdots = b_5=1$\n",
    "and then with values $b_0= 0, b_1=1 , b_2=b_3\\cdots = b_5=0$. (Actually there is an even easier way to get this last one using the symmetry. Use this to check your computed answer.)**\n",
    "\n",
    "We write the Laplacian for this graph by hand and then use the PLU factorization method to solve the 3 BVPs.\n",
    "The last BVP is identical to first BVP under the following vertex mappings, which can be represented as a permutation matrix.\n",
    "$\n",
    "{0, 1, 2, 3, 4, 5, 6, 7, 8, 9, 10, 11, 12}\\rightarrow 1, 2, 3, 4, 5, 0, 7, 10, 6, 9, 12, 8, 11\n",
    "$\n",
    "\n",
    "The last solution $f_3$ agrees reasonably well with the first solution $f_1$ (after permuted).\n",
    "\n",
    "The second solution $f_2$ also makes sense. Since the solution to a Dirichlet problem with constant BVs $1$ is the constant function $1$."
   ]
  },
  {
   "cell_type": "code",
   "execution_count": 8,
   "metadata": {
    "pycharm": {
     "name": "#%%\n"
    }
   },
   "outputs": [
    {
     "name": "stdout",
     "output_type": "stream",
     "text": [
      "f1 = [1.         0.         0.         0.         0.         0.\n",
      " 0.31039165 0.31182104 0.09348199 0.14665523 0.10205832 0.01036306\n",
      " 0.05181532]\n",
      "f2 = [1.         1.         1.         1.         1.         1.\n",
      " 0.9348199  0.94511149 0.87307033 0.85591767 0.9348199  0.57461407\n",
      " 0.87307033]\n",
      "f3 = [0.         1.         0.         0.         0.         0.\n",
      " 0.10341624 0.31296455 0.05445969 0.14965695 0.31174957 0.01922527\n",
      " 0.09612636]\n"
     ]
    }
   ],
   "source": [
    "import numpy as np\n",
    "import scipy.linalg as la\n",
    "\n",
    "L = np.array([\n",
    "    [-2, 0, 0, 0, 0, 0, 1, 1, 0, 0, 0, 0, 0],\n",
    "    [0, -2, 0, 0, 0, 0, 0, 1, 0, 0, 1, 0, 0],\n",
    "    [0, 0, -2, 0, 0, 0, 0, 0, 0, 0, 1, 0, 1],\n",
    "    [0, 0, 0, -2, 0, 0, 0, 0, 0, 0, 0, 1, 1],\n",
    "    [0, 0, 0, 0, -2, 0, 0, 0, 1, 0, 0, 1, 0],\n",
    "    [0, 0, 0, 0, 0, -2, 0, 0, 0, 0, 0, 0, 0],\n",
    "    [1, 0, 0, 0, 0, 1, -5, 1, 1, 1, 0, 0, 0],\n",
    "    [1, 1, 0, 0, 0, 0, 1, -5, 0, 1, 1, 0, 0],\n",
    "    [0, 0, 0, 0, 1, 1, 1, 0, -5, 1, 0, 1, 0],\n",
    "    [0, 0, 0, 0, 0, 0, 1, 1, 1, -6, 1, 1, 1],\n",
    "    [0, 1, 1, 0, 0, 0, 0, 1, 0, 1, -5, 0, 1],\n",
    "    [0, 0, 0, 1, 1, 0, 0, 0, 1, 1, 0, -5, 1],\n",
    "    [0, 0, 1, 1, 0, 0, 0, 0, 0, 1, 1, 1, -5]\n",
    "])\n",
    "P = np.hstack([np.eye(6), np.zeros((6, 7))])\n",
    "Q = np.hstack([np.zeros((7, 6)), np.eye(7)])\n",
    "\n",
    "A = Q @ L @ Q.T\n",
    "lu, piv = la.lu_factor(A)\n",
    "\n",
    "b1 = np.array([1, 0, 0, 0, 0, 0]).T\n",
    "b2 = np.ones(6).T\n",
    "b3 = np.array([0, 1, 0, 0, 0, 0]).T\n",
    "bs, fs = [b1, b2, b3], []\n",
    "for b in bs:\n",
    "    c = -Q @ L @ P.T @ b\n",
    "    x = la.lu_solve((lu, piv), c)\n",
    "    fs.append(P.T @ b + Q.T @ x)\n",
    "\n",
    "for i in range(3):\n",
    "    print(f'f{i + 1} = {fs[i]}')\n",
    "\n"
   ]
  },
  {
   "cell_type": "code",
   "execution_count": null,
   "metadata": {},
   "outputs": [],
   "source": []
  }
 ],
 "metadata": {
  "kernelspec": {
   "display_name": "Python 3",
   "language": "python",
   "name": "python3"
  },
  "language_info": {
   "codemirror_mode": {
    "name": "ipython",
    "version": 3
   },
   "file_extension": ".py",
   "mimetype": "text/x-python",
   "name": "python",
   "nbconvert_exporter": "python",
   "pygments_lexer": "ipython3",
   "version": "3.8.6"
  }
 },
 "nbformat": 4,
 "nbformat_minor": 4
}