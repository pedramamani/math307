{
 "cells": [
  {
   "cell_type": "markdown",
   "metadata": {},
   "source": [
    "## The LU decomposition in python\n",
    "\n",
    "The routines to compute the A=PLU factorization are in the scipy library. See [lu_factor](https://docs.scipy.org/doc/scipy/reference/generated/scipy.linalg.lu_factor.html#scipy.linalg.lu_factor) and [lu_solve](https://docs.scipy.org/doc/scipy/reference/generated/scipy.linalg.lu_solve.html#scipy.linalg.lu_solve).\n"
   ]
  },
  {
   "cell_type": "code",
   "execution_count": 1,
   "metadata": {},
   "outputs": [],
   "source": [
    "import numpy as np\n",
    "import scipy.linalg as la\n",
    "import matplotlib.pyplot as plt"
   ]
  },
  {
   "cell_type": "markdown",
   "metadata": {},
   "source": [
    "Start with the matrix\n",
    "$$\n",
    "A=\\begin{bmatrix}\n",
    "3&2&3\\\\1&1&1\\\\1&0&1\\\\\n",
    "\\end{bmatrix}\n",
    "$$\n",
    "and run lu_factor:"
   ]
  },
  {
   "cell_type": "code",
   "execution_count": 2,
   "metadata": {},
   "outputs": [
    {
     "name": "stderr",
     "output_type": "stream",
     "text": [
      "<ipython-input-2-02a1565b5c8a>:2: LinAlgWarning: Diagonal number 3 is exactly zero. Singular matrix.\n",
      "  lu, piv = la.lu_factor(A)\n"
     ]
    }
   ],
   "source": [
    "A = np.array([[3,2,3], [1,1,1], [1,0,1]])\n",
    "lu, piv = la.lu_factor(A)"
   ]
  },
  {
   "cell_type": "markdown",
   "metadata": {},
   "source": [
    "**QUESTION 1**: Read the documentation and explain how to recover $A$ from the output of lu_factor(A). Illustrate with the example $A=\\begin{bmatrix}\n",
    "3&2&3\\\\1&1&1\\\\1&0&1\\\\\n",
    "\\end{bmatrix}$.\n",
    "\n",
    "\n",
    "First extract the lower and upper triangular matrices $L$ and $U$ from `lu` output (add the identity to the lower triangular matrix to obtain the correct form). Then, multiply them to get $LU$ and finally permute by `piv` to get back $A$."
   ]
  },
  {
   "cell_type": "code",
   "execution_count": 5,
   "metadata": {},
   "outputs": [
    {
     "name": "stdout",
     "output_type": "stream",
     "text": [
      "[[3. 2. 3.]\n",
      " [3. 1. 1.]\n",
      " [1. 0. 1.]]\n"
     ]
    }
   ],
   "source": [
    "A = np.array([\n",
    "    [3, 2, 3],\n",
    "    [3, 1, 1],\n",
    "    [1, 0, 1]\n",
    "])\n",
    "\n",
    "lu, piv = la.lu_factor(A)\n",
    "L = np.tril(lu, k=-1) + np.eye(3)\n",
    "U = np.triu(lu)\n",
    "result = (L @ U)[piv]\n",
    "print(result)"
   ]
  },
  {
   "cell_type": "markdown",
   "metadata": {},
   "source": [
    "**QUESTION 2**: To solve $Ax=b$ we can use either of the following.\n",
    "\n",
    "1) x = la.solve(A, b)\n",
    "2) lu, piv = la.lu_factor(A); x = la.lu_solve((lu,piv),b)\n",
    "\n",
    "Compare the time it takes to run (1) and (2) when A and b are large random matrices/vectors. Use np.random.rand(N,N) to obtain matrices whose entries are uniformly distributed on $[0,1]$.\n",
    "\n",
    "The second method takes about $40\\%$ less time to complete. The majority of this time is for computing the $PLU$ decomposition."
   ]
  },
  {
   "cell_type": "code",
   "execution_count": 7,
   "metadata": {
    "pycharm": {
     "name": "#%%\n"
    }
   },
   "outputs": [
    {
     "name": "stdout",
     "output_type": "stream",
     "text": [
      "Wall time: 391 ms\n",
      "Wall time: 289 ms\n",
      "Wall time: 293 ms\n"
     ]
    }
   ],
   "source": [
    "N = 3000\n",
    "A = np.random.rand(N, N)\n",
    "b = np.random.rand(N)\n",
    "\n",
    "%time x = la.solve(A, b)\n",
    "%time lup = la.lu_factor(A)\n",
    "%time lup = la.lu_factor(A); x = la.lu_solve(lup, b)"
   ]
  }
 ],
 "metadata": {
  "kernelspec": {
   "display_name": "Python 3",
   "language": "python",
   "name": "python3"
  },
  "language_info": {
   "codemirror_mode": {
    "name": "ipython",
    "version": 3
   },
   "file_extension": ".py",
   "mimetype": "text/x-python",
   "name": "python",
   "nbconvert_exporter": "python",
   "pygments_lexer": "ipython3",
   "version": "3.8.6"
  }
 },
 "nbformat": 4,
 "nbformat_minor": 4
}
