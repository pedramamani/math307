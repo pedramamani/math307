{
 "cells": [
  {
   "cell_type": "markdown",
   "metadata": {
    "collapsed": true,
    "pycharm": {
     "name": "#%% md\n"
    }
   },
   "source": [
    "### 1.4)\n",
    "The code snippet below checks the validity of Holder's inequality for $p=3$ for 100 vectors in $\\mathbb{R}^5$."
   ]
  },
  {
   "cell_type": "code",
   "execution_count": 9,
   "metadata": {
    "pycharm": {
     "name": "#%%\n"
    }
   },
   "outputs": [],
   "source": [
    "import numpy as np\n",
    "import numpy.linalg as la\n",
    "\n",
    "p = 3\n",
    "q = p / (p - 1)\n",
    "N = 100\n",
    "\n",
    "for _ in range(N):\n",
    "    x = np.random.random(5)\n",
    "    y = np.random.random(5)\n",
    "\n",
    "    lhs = np.abs(np.dot(x, y))\n",
    "    rhs = la.norm(x, 3) * la.norm(y, q)\n",
    "    print(lhs <= rhs)  # prints all True values"
   ]
  },
  {
   "cell_type": "markdown",
   "metadata": {
    "pycharm": {
     "name": "#%% md\n"
    }
   },
   "source": [
    "### 1.6)\n",
    "We first give the counterexample of\n",
    "\n",
    "$ A = \\begin{bmatrix}\n",
    "1 & 2 & 3\\\\\n",
    "3 & 2 & 0\\\\\n",
    "-1 & 0 & 2\\\\\n",
    "\\end{bmatrix}$"
   ]
  },
  {
   "cell_type": "code",
   "execution_count": 28,
   "metadata": {
    "pycharm": {
     "name": "#%%\n"
    }
   },
   "outputs": [
    {
     "name": "stdout",
     "output_type": "stream",
     "text": [
      "False\n"
     ]
    }
   ],
   "source": [
    "A = np.array([\n",
    "    [1, 2, 3],\n",
    "    [3, 2, 0],\n",
    "    [-1, 0, 2]\n",
    "])\n",
    "norm = la.norm(A, 2)\n",
    "maxeig = np.max(la.eig(A)[0])\n",
    "print(norm == maxeig)"
   ]
  },
  {
   "cell_type": "markdown",
   "metadata": {
    "pycharm": {
     "name": "#%% md\n"
    }
   },
   "source": [
    "Now we test the equality for 100 random $3\\times 3$ real and symmetric matrices.\n"
   ]
  },
  {
   "cell_type": "code",
   "execution_count": 30,
   "metadata": {
    "pycharm": {
     "name": "#%%\n"
    }
   },
   "outputs": [
    {
     "name": "stdout",
     "output_type": "stream",
     "text": [
      "\n",
      "\n",
      "\n",
      "\n",
      "\n",
      "\n",
      "\n",
      "\n",
      "\n",
      "\n",
      "\n",
      "\n",
      "\n",
      "\n",
      "\n",
      "\n",
      "\n",
      "\n",
      "\n",
      "\n",
      "\n",
      "\n",
      "\n",
      "\n",
      "\n",
      "\n",
      "\n",
      "\n",
      "\n",
      "\n",
      "\n",
      "\n",
      "\n",
      "\n",
      "\n",
      "\n",
      "\n",
      "\n",
      "\n",
      "\n",
      "\n",
      "\n",
      "\n",
      "\n",
      "\n",
      "\n",
      "\n",
      "\n",
      "\n",
      "\n",
      "\n",
      "\n",
      "\n",
      "\n",
      "\n",
      "\n",
      "\n",
      "\n",
      "\n",
      "\n",
      "\n",
      "\n",
      "\n",
      "\n",
      "\n",
      "\n",
      "\n",
      "\n",
      "\n",
      "\n",
      "\n",
      "\n",
      "\n",
      "\n",
      "\n",
      "\n",
      "\n",
      "\n",
      "\n",
      "\n",
      "\n",
      "\n",
      "\n",
      "\n",
      "\n",
      "\n",
      "\n",
      "\n",
      "\n",
      "\n",
      "\n",
      "\n",
      "\n",
      "\n",
      "\n",
      "\n",
      "\n",
      "\n",
      "\n",
      "\n"
     ]
    }
   ],
   "source": [
    "N = 100\n",
    "\n",
    "for _ in range(N):\n",
    "    A = np.random.random((3, 3))\n",
    "    A = (A + A.T) / 2  # create symmetric matrix with random real values\n",
    "    norm = la.norm(A, 2)\n",
    "    maxeig = np.max(la.eig(A)[0])\n",
    "    print(np.isclose(norm, maxeig))  # prints all True values\n"
   ]
  }
 ],
 "metadata": {
  "kernelspec": {
   "display_name": "Python 3",
   "language": "python",
   "name": "python3"
  },
  "language_info": {
   "codemirror_mode": {
    "name": "ipython",
    "version": 3
   },
   "file_extension": ".py",
   "mimetype": "text/x-python",
   "name": "python",
   "nbconvert_exporter": "python",
   "pygments_lexer": "ipython3",
   "version": "3.8.6"
  }
 },
 "nbformat": 4,
 "nbformat_minor": 1
}